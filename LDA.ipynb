{
 "cells": [
  {
   "cell_type": "markdown",
   "metadata": {},
   "source": [
    "# Latent Dirichlet allocation\n",
    "Latent Dirichlet allocation(LDA)是统计主题模型，被 David Blei, Andrew Ng, and Michael Jordan 于2003年提出。\n",
    "论文见[Latent Dirichlet allocation](https://www.cs.princeton.edu/~blei/papers/BleiNgJordan2003.pdf)。\n"
   ]
  },
  {
   "cell_type": "markdown",
   "metadata": {},
   "source": [
    "## 模型\n",
    "基本思想是，每个文档是由若干主题随机混合得到，而主题由词的分布进行表达。LDA产生文档过程可以描述如下。\n",
    "1. 选择 $N\\sim Poisson(\\xi)$\n",
    "2. 选择 $\\theta \\sim Dir(\\alpha)$\n",
    "3. 对每一个单词 $w_n$:\n",
    "    1. 选择主题$z_n \\sim Multinomial(\\theta)$\n",
    "    2. 通过多项分布条件概率$p(w|z_n, \\beta)$选择单词。$\\beta$ 刻画不同主题下，词的概率分布。$\\beta_{ij}=p(w_j=1|z_i=1)$"
   ]
  },
  {
   "cell_type": "markdown",
   "metadata": {},
   "source": [
    "Dirichlet分布\n",
    "$$\n",
    "p(\\theta|\\alpha) = \\frac{\\Gamma(\\sum_i^k \\alpha_i)}{\\Pi_i^k \\Gamma(\\alpha_i)\\theta_1^{\\alpha_1-1} \\dots \\theta_k^{\\alpha_k-1} }\n",
    "$$\n",
    "当$alpha$都是整数的时候，其实就是\n",
    "$$\n",
    "\\frac{n!}{\\Pi_i^k (\\alpha_i-1)!} \\theta_1^{\\alpha_1-1} \\dots \\theta_k^{\\alpha_k-1}\n",
    "$$\n",
    "这个形式和多项分布相同，Dirichlet分布就是多项分布的先验。"
   ]
  },
  {
   "cell_type": "markdown",
   "metadata": {},
   "source": [
    "$\\alpha$ -> $\\theta$ -> $z_n (\\beta)$-> $w_n$"
   ]
  }
 ],
 "metadata": {
  "kernelspec": {
   "display_name": "Python 2",
   "language": "python",
   "name": "python2"
  },
  "language_info": {
   "codemirror_mode": {
    "name": "ipython",
    "version": 2
   },
   "file_extension": ".py",
   "mimetype": "text/x-python",
   "name": "python",
   "nbconvert_exporter": "python",
   "pygments_lexer": "ipython2",
   "version": "2.7.6"
  }
 },
 "nbformat": 4,
 "nbformat_minor": 0
}
